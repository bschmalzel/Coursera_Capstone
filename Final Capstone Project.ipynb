{
    "cells": [
        {
            "cell_type": "markdown",
            "metadata": {
                "collapsed": true
            },
            "source": "# Introduction and Business Problem\n\nFor my Capstone project I will be comparing the different neighborhoods of the island of Oahu, Hawaii. I will \n\n*Can FourSquare data help incoming Oahu residents decide where on the island they would like to live?*\n\nThousands of people move to Oahu each year from the U.S. mainland and from abroad (http://dbedt.hawaii.gov/blog/19-40/). I myself moved to Oahu from the mainland six years ago. When apartment or house hunting, I think many people are presented with multiple options regarding which part of the island in which they would like to reside. Some incoming residents may even intend on opening a business on Oahu. Others move to Hawaii with their families, and are interested in neighborhood schools and crime rates. I would like to provide useful insight for incoming Oahu residents for deciding between different neighborhoods on the island.\n\nI will utilize FourSquare data to analyze differences in the types and frequencies of businesses in each neighborhood. And when possible, analyze relationships between neighborhood crime and school performance. \n\nIn addition to general analysis of the island, two specific examples will be considered:\n* Mary is moving to Oahu and is considering opening either a bakery or an Italian restaraunt. Are there neighborhoods that favor one over the other?\n* John is moving to Oahu with his family. He would like a neighborhood with nearby parks, but also low crime and good high schools. \n"
        },
        {
            "cell_type": "markdown",
            "metadata": {},
            "source": "# Data\n\nFoursquare data will be obtained through the use of a Foursquare Developer Account and the Foursquare API. I'll use the Oahu neighborhoods and postal codes found at https://www.kimicorrea.com/oahu-zip-codes/. \n\nFor data on Oahu public schools, I will utilize the Strive HI Performance System results for 2017-2018 school year. This data was releasted by the Hawaii State Department of Education and is available for download as an Excel sheet at http://www.hawaiipublicschools.org/VisionForSuccess/AdvancingEducation/StriveHIPerformanceSystem/Pages/2017-18-results.aspx\nTo simplify this analysis, I will generate a combined math, language, and science score for public high schools only.\n\nFor Oahu crime data, I will utilize the Honolulu Police Department's 2018 Annual Report (http://www.honolulupd.org/downloads/HPD2018annualreport.pdf).\n\nTo join the different data sets, I will have to retrieve the postal code for each Oahu school and determine in which crime district each neighborhood resides (as the Oahu crime data is organized into eight separate districts). \n\nI plan on using a k-means cluster algorithm to cluster the different zip codes according to the most frequent types of business found in a radius around those zip codes. I will also look into the feasability of including the crime and school data in the cluster algorithm. Lastly, I will use NumPy to look into possible correlation between crime and school data. "
        },
        {
            "cell_type": "markdown",
            "metadata": {},
            "source": "### Foursquare Data\n"
        },
        {
            "cell_type": "code",
            "execution_count": 68,
            "metadata": {},
            "outputs": [
                {
                    "data": {
                        "text/html": "<div>\n<style scoped>\n    .dataframe tbody tr th:only-of-type {\n        vertical-align: middle;\n    }\n\n    .dataframe tbody tr th {\n        vertical-align: top;\n    }\n\n    .dataframe thead th {\n        text-align: right;\n    }\n</style>\n<table border=\"1\" class=\"dataframe\">\n  <thead>\n    <tr style=\"text-align: right;\">\n      <th></th>\n      <th>Neighborhood</th>\n      <th>Zip Code</th>\n    </tr>\n  </thead>\n  <tbody>\n    <tr>\n      <th>0</th>\n      <td>Aiea</td>\n      <td>96701</td>\n    </tr>\n    <tr>\n      <th>1</th>\n      <td>Ewa Beach</td>\n      <td>96706</td>\n    </tr>\n    <tr>\n      <th>2</th>\n      <td>Kapolei</td>\n      <td>96707</td>\n    </tr>\n    <tr>\n      <th>3</th>\n      <td>Kapolei</td>\n      <td>96709</td>\n    </tr>\n    <tr>\n      <th>4</th>\n      <td>Haleiwa</td>\n      <td>96712</td>\n    </tr>\n  </tbody>\n</table>\n</div>",
                        "text/plain": "  Neighborhood  Zip Code\n0         Aiea     96701\n1    Ewa Beach     96706\n2      Kapolei     96707\n3      Kapolei     96709\n4      Haleiwa     96712"
                    },
                    "execution_count": 68,
                    "metadata": {},
                    "output_type": "execute_result"
                }
            ],
            "source": "# The code was removed by Watson Studio for sharing."
        },
        {
            "cell_type": "code",
            "execution_count": 19,
            "metadata": {},
            "outputs": [
                {
                    "name": "stdout",
                    "output_type": "stream",
                    "text": "Solving environment: done\n\n# All requested packages already installed.\n\nSolving environment: \\ "
                },
                {
                    "name": "stderr",
                    "output_type": "stream",
                    "text": "IOPub message rate exceeded.\nThe notebook server will temporarily stop sending output\nto the client in order to avoid crashing it.\nTo change this limit, set the config variable\n`--NotebookApp.iopub_msg_rate_limit`.\n\nCurrent values:\nNotebookApp.iopub_msg_rate_limit=1000.0 (msgs/sec)\nNotebookApp.rate_limit_window=3.0 (secs)\n\n"
                },
                {
                    "name": "stdout",
                    "output_type": "stream",
                    "text": "done\n\n## Package Plan ##\n\n  environment location: /opt/conda/envs/Python36\n\n  added / updated specs: \n    - folium=0.5.0\n\n\nThe following packages will be downloaded:\n\n    package                    |            build\n    ---------------------------|-----------------\n    vincent-0.4.4              |             py_1          28 KB  conda-forge\n    folium-0.5.0               |             py_0          45 KB  conda-forge\n    altair-4.1.0               |             py_1         614 KB  conda-forge\n    branca-0.4.1               |             py_0          26 KB  conda-forge\n    ------------------------------------------------------------\n                                           Total:         713 KB\n\nThe following NEW packages will be INSTALLED:\n\n    altair:  4.1.0-py_1 conda-forge\n    branca:  0.4.1-py_0 conda-forge\n    folium:  0.5.0-py_0 conda-forge\n    vincent: 0.4.4-py_1 conda-forge\n\n\nDownloading and Extracting Packages\nvincent-0.4.4        | 28 KB     | ##################################### | 100% \nfolium-0.5.0         | 45 KB     | ##################################### | 100% \naltair-4.1.0         | 614 KB    | ##################################### | 100% \nbranca-0.4.1         | 26 KB     | ##################################### | 100% \nPreparing transaction: done\nVerifying transaction: done\nExecuting transaction: done\nLibraries imported.\n"
                }
            ],
            "source": "#Import necessary libraries\nimport requests # library to handle requests\nimport pandas as pd # library for data analsysis\nimport numpy as np # library to handle data in a vectorized manner\nimport random # library for random number generation\n!conda install -c conda-forge geopy --yes \nfrom geopy.geocoders import Nominatim # module to convert an address into latitude and longitude values\n# Matplotlib and associated plotting modules\nimport matplotlib.cm as cm\nimport matplotlib.colors as colors\n# import k-means from clustering stage\nfrom sklearn.cluster import KMeans\n!conda install -c conda-forge folium=0.5.0 --yes \nimport folium # map rendering library\nimport json # library to handle JSON files\nfrom pandas.io.json import json_normalize # tranform JSON file into a pandas dataframe\nprint('Libraries imported.')"
        },
        {
            "cell_type": "code",
            "execution_count": 48,
            "metadata": {},
            "outputs": [],
            "source": "# The code was removed by Watson Studio for sharing."
        },
        {
            "cell_type": "code",
            "execution_count": 35,
            "metadata": {},
            "outputs": [
                {
                    "name": "stdout",
                    "output_type": "stream",
                    "text": "Collecting pgeocode\n  Downloading https://files.pythonhosted.org/packages/86/44/519e3db3db84acdeb29e24f2e65991960f13464279b61bde5e9e96909c9d/pgeocode-0.2.1-py2.py3-none-any.whl\nRequirement already satisfied: numpy in /opt/conda/envs/Python36/lib/python3.6/site-packages (from pgeocode) (1.15.4)\nRequirement already satisfied: requests in /opt/conda/envs/Python36/lib/python3.6/site-packages (from pgeocode) (2.21.0)\nRequirement already satisfied: pandas in /opt/conda/envs/Python36/lib/python3.6/site-packages (from pgeocode) (0.24.1)\nRequirement already satisfied: urllib3<1.25,>=1.21.1 in /opt/conda/envs/Python36/lib/python3.6/site-packages (from requests->pgeocode) (1.24.1)\nRequirement already satisfied: chardet<3.1.0,>=3.0.2 in /opt/conda/envs/Python36/lib/python3.6/site-packages (from requests->pgeocode) (3.0.4)\nRequirement already satisfied: idna<2.9,>=2.5 in /opt/conda/envs/Python36/lib/python3.6/site-packages (from requests->pgeocode) (2.8)\nRequirement already satisfied: certifi>=2017.4.17 in /opt/conda/envs/Python36/lib/python3.6/site-packages (from requests->pgeocode) (2020.6.20)\nRequirement already satisfied: python-dateutil>=2.5.0 in /opt/conda/envs/Python36/lib/python3.6/site-packages (from pandas->pgeocode) (2.7.5)\nRequirement already satisfied: pytz>=2011k in /opt/conda/envs/Python36/lib/python3.6/site-packages (from pandas->pgeocode) (2018.9)\nRequirement already satisfied: six>=1.5 in /opt/conda/envs/Python36/lib/python3.6/site-packages (from python-dateutil>=2.5.0->pandas->pgeocode) (1.12.0)\nInstalling collected packages: pgeocode\nSuccessfully installed pgeocode-0.2.1\n"
                }
            ],
            "source": "#Install pgeocode to lookup lat/lon with zip code\n!pip install pgeocode\nimport pgeocode\n"
        },
        {
            "cell_type": "code",
            "execution_count": 69,
            "metadata": {},
            "outputs": [
                {
                    "data": {
                        "text/html": "<div>\n<style scoped>\n    .dataframe tbody tr th:only-of-type {\n        vertical-align: middle;\n    }\n\n    .dataframe tbody tr th {\n        vertical-align: top;\n    }\n\n    .dataframe thead th {\n        text-align: right;\n    }\n</style>\n<table border=\"1\" class=\"dataframe\">\n  <thead>\n    <tr style=\"text-align: right;\">\n      <th></th>\n      <th>Neighborhood</th>\n      <th>Zip Code</th>\n      <th>Latitude</th>\n      <th>Longitude</th>\n    </tr>\n  </thead>\n  <tbody>\n    <tr>\n      <th>0</th>\n      <td>Aiea</td>\n      <td>96701</td>\n      <td>21.3908</td>\n      <td>-157.9332</td>\n    </tr>\n    <tr>\n      <th>1</th>\n      <td>Ewa Beach</td>\n      <td>96706</td>\n      <td>21.3274</td>\n      <td>-158.0103</td>\n    </tr>\n    <tr>\n      <th>2</th>\n      <td>Kapolei</td>\n      <td>96707</td>\n      <td>21.3453</td>\n      <td>-158.0870</td>\n    </tr>\n    <tr>\n      <th>3</th>\n      <td>Kapolei</td>\n      <td>96709</td>\n      <td>21.3233</td>\n      <td>-158.0058</td>\n    </tr>\n    <tr>\n      <th>4</th>\n      <td>Haleiwa</td>\n      <td>96712</td>\n      <td>21.6312</td>\n      <td>-158.0693</td>\n    </tr>\n  </tbody>\n</table>\n</div>",
                        "text/plain": "  Neighborhood Zip Code  Latitude  Longitude\n0         Aiea    96701   21.3908  -157.9332\n1    Ewa Beach    96706   21.3274  -158.0103\n2      Kapolei    96707   21.3453  -158.0870\n3      Kapolei    96709   21.3233  -158.0058\n4      Haleiwa    96712   21.6312  -158.0693"
                    },
                    "execution_count": 69,
                    "metadata": {},
                    "output_type": "execute_result"
                }
            ],
            "source": "#Use geolocator to get latitude and longitude from postal codes.\n#First we'll get Honolulu's location for use in map creation later on\naddress = 'Honolulu, HI'\ngeolocator = Nominatim(user_agent=\"explorer\")\nlocation = geolocator.geocode(address)\nhonolulu_latitude = location.latitude\nhonolulu_longitude = location.longitude\n\n#Create an empty dataframe for a lat/lon dtaframe\n# define the dataframe columns\ncolumn_names = ['Neighborhood','Zip Code', 'Latitude', 'Longitude'] \n# instantiate the dataframe\ndf_latlon = pd.DataFrame(columns=column_names)\nnomi = pgeocode.Nominatim('us')\n#Use a for loop to retrieve latitude and longitude for each postal code in df_zip\nfor index, row in df_zip.iterrows():\n    neighborhood=row['Neighborhood']\n    zip_code=row['Zip Code']\n    location=nomi.query_postal_code(zip_code)\n    neighborhood_lat=location.latitude\n    neighborhood_lon=location.longitude\n    df_latlon = df_latlon.append({'Neighborhood': neighborhood,\n                                          'Zip Code': zip_code,\n                                          'Latitude': neighborhood_lat,\n                                          'Longitude': neighborhood_lon}, ignore_index=True)\ndf_latlon.head()\n"
        },
        {
            "cell_type": "markdown",
            "metadata": {},
            "source": "### Public High School Data"
        },
        {
            "cell_type": "code",
            "execution_count": 67,
            "metadata": {},
            "outputs": [
                {
                    "data": {
                        "text/html": "<div>\n<style scoped>\n    .dataframe tbody tr th:only-of-type {\n        vertical-align: middle;\n    }\n\n    .dataframe tbody tr th {\n        vertical-align: top;\n    }\n\n    .dataframe thead th {\n        text-align: right;\n    }\n</style>\n<table border=\"1\" class=\"dataframe\">\n  <thead>\n    <tr style=\"text-align: right;\">\n      <th></th>\n      <th>School</th>\n      <th>Graduation</th>\n      <th>Math Proficiency</th>\n      <th>Language Proficiency</th>\n      <th>Science Proficiency</th>\n      <th>Neighborhood/District</th>\n      <th>Zip</th>\n      <th>District</th>\n      <th>Sum Proficiency</th>\n    </tr>\n  </thead>\n  <tbody>\n    <tr>\n      <th>0</th>\n      <td>Farrington High</td>\n      <td>73</td>\n      <td>26</td>\n      <td>54</td>\n      <td>22</td>\n      <td>Kalihi</td>\n      <td>96817</td>\n      <td>5</td>\n      <td>102</td>\n    </tr>\n    <tr>\n      <th>1</th>\n      <td>Kaimuki High</td>\n      <td>70</td>\n      <td>12</td>\n      <td>57</td>\n      <td>9</td>\n      <td>Kaimuki</td>\n      <td>96816</td>\n      <td>7</td>\n      <td>78</td>\n    </tr>\n    <tr>\n      <th>2</th>\n      <td>Kalani High</td>\n      <td>91</td>\n      <td>53</td>\n      <td>67</td>\n      <td>54</td>\n      <td>East Honolulu</td>\n      <td>96821</td>\n      <td>7</td>\n      <td>174</td>\n    </tr>\n    <tr>\n      <th>3</th>\n      <td>McKinley High</td>\n      <td>74</td>\n      <td>43</td>\n      <td>58</td>\n      <td>28</td>\n      <td>Makiki</td>\n      <td>96814</td>\n      <td>1</td>\n      <td>129</td>\n    </tr>\n    <tr>\n      <th>4</th>\n      <td>Roosevelt High</td>\n      <td>87</td>\n      <td>46</td>\n      <td>73</td>\n      <td>42</td>\n      <td>Central Honolulu</td>\n      <td>96822</td>\n      <td>1</td>\n      <td>161</td>\n    </tr>\n  </tbody>\n</table>\n</div>",
                        "text/plain": "            School  Graduation  Math Proficiency  Language Proficiency  \\\n0  Farrington High          73                26                    54   \n1     Kaimuki High          70                12                    57   \n2      Kalani High          91                53                    67   \n3    McKinley High          74                43                    58   \n4   Roosevelt High          87                46                    73   \n\n   Science Proficiency Neighborhood/District    Zip  District  Sum Proficiency  \n0                   22                Kalihi  96817         5              102  \n1                    9               Kaimuki  96816         7               78  \n2                   54         East Honolulu  96821         7              174  \n3                   28                Makiki  96814         1              129  \n4                   42      Central Honolulu  96822         1              161  "
                    },
                    "execution_count": 67,
                    "metadata": {},
                    "output_type": "execute_result"
                }
            ],
            "source": "\nbody = client_d2cf653ced7f4ce7bdabe9c0e97f1701.get_object(Bucket='datascienceproject-donotdelete-pr-8nunocffzcnlco',Key='oahu_hs.csv')['Body']\n# add missing __iter__ method, so pandas accepts body as file-like object\nif not hasattr(body, \"__iter__\"): body.__iter__ = types.MethodType( __iter__, body )\n\ndf_schools = pd.read_csv(body)\n#Now sum the math, language, and science scores into one total score\nsum_score=df_schools['Math Proficiency']+df_schools['Language Proficiency']+df_schools['Science Proficiency']\ndf_schools['Sum Proficiency']=sum_score\ndf_schools.head()"
        },
        {
            "cell_type": "markdown",
            "metadata": {},
            "source": "### Oahu Crime Data"
        },
        {
            "cell_type": "code",
            "execution_count": 63,
            "metadata": {},
            "outputs": [
                {
                    "data": {
                        "text/html": "<div>\n<style scoped>\n    .dataframe tbody tr th:only-of-type {\n        vertical-align: middle;\n    }\n\n    .dataframe tbody tr th {\n        vertical-align: top;\n    }\n\n    .dataframe thead th {\n        text-align: right;\n    }\n</style>\n<table border=\"1\" class=\"dataframe\">\n  <thead>\n    <tr style=\"text-align: right;\">\n      <th></th>\n      <th>District</th>\n      <th>Total Crimes</th>\n    </tr>\n  </thead>\n  <tbody>\n    <tr>\n      <th>0</th>\n      <td>1</td>\n      <td>6808</td>\n    </tr>\n    <tr>\n      <th>1</th>\n      <td>2</td>\n      <td>2472</td>\n    </tr>\n    <tr>\n      <th>2</th>\n      <td>3</td>\n      <td>4525</td>\n    </tr>\n    <tr>\n      <th>3</th>\n      <td>4</td>\n      <td>3104</td>\n    </tr>\n    <tr>\n      <th>4</th>\n      <td>5</td>\n      <td>4917</td>\n    </tr>\n  </tbody>\n</table>\n</div>",
                        "text/plain": "   District  Total Crimes\n0         1          6808\n1         2          2472\n2         3          4525\n3         4          3104\n4         5          4917"
                    },
                    "execution_count": 63,
                    "metadata": {},
                    "output_type": "execute_result"
                }
            ],
            "source": "body = client_d2cf653ced7f4ce7bdabe9c0e97f1701.get_object(Bucket='datascienceproject-donotdelete-pr-8nunocffzcnlco',Key='2018 Crime Data.csv')['Body']\n# add missing __iter__ method, so pandas accepts body as file-like object\nif not hasattr(body, \"__iter__\"): body.__iter__ = types.MethodType( __iter__, body )\n\ndf_crime = pd.read_csv(body)\ndf_crime.head()\n"
        },
        {
            "cell_type": "markdown",
            "metadata": {},
            "source": "### Combine All Data"
        },
        {
            "cell_type": "code",
            "execution_count": 70,
            "metadata": {},
            "outputs": [
                {
                    "data": {
                        "text/html": "<div>\n<style scoped>\n    .dataframe tbody tr th:only-of-type {\n        vertical-align: middle;\n    }\n\n    .dataframe tbody tr th {\n        vertical-align: top;\n    }\n\n    .dataframe thead th {\n        text-align: right;\n    }\n</style>\n<table border=\"1\" class=\"dataframe\">\n  <thead>\n    <tr style=\"text-align: right;\">\n      <th></th>\n      <th>Zip</th>\n      <th>District</th>\n      <th>Sum Proficiency</th>\n      <th>School</th>\n      <th>Total Crimes</th>\n      <th>Neighborhood</th>\n      <th>Latitude</th>\n      <th>Longitude</th>\n    </tr>\n  </thead>\n  <tbody>\n    <tr>\n      <th>0</th>\n      <td>96701</td>\n      <td>3</td>\n      <td>133.0</td>\n      <td>Aiea High</td>\n      <td>4525</td>\n      <td>Aiea</td>\n      <td>21.3908</td>\n      <td>-157.9332</td>\n    </tr>\n    <tr>\n      <th>1</th>\n      <td>96706</td>\n      <td>8</td>\n      <td>142.0</td>\n      <td>Campbell High</td>\n      <td>4723</td>\n      <td>Ewa Beach</td>\n      <td>21.3274</td>\n      <td>-158.0103</td>\n    </tr>\n    <tr>\n      <th>2</th>\n      <td>96707</td>\n      <td>8</td>\n      <td>95.0</td>\n      <td>Kapolei High</td>\n      <td>4723</td>\n      <td>Kapolei</td>\n      <td>21.3453</td>\n      <td>-158.0870</td>\n    </tr>\n    <tr>\n      <th>3</th>\n      <td>96731</td>\n      <td>4</td>\n      <td>114.0</td>\n      <td>Kahuku H&amp;I</td>\n      <td>3104</td>\n      <td>Kahuku</td>\n      <td>21.6750</td>\n      <td>-157.9725</td>\n    </tr>\n    <tr>\n      <th>4</th>\n      <td>96734</td>\n      <td>4</td>\n      <td>140.5</td>\n      <td>Kailua High,Kalaheo High</td>\n      <td>3104</td>\n      <td>Kailua</td>\n      <td>21.4063</td>\n      <td>-157.7448</td>\n    </tr>\n    <tr>\n      <th>5</th>\n      <td>96744</td>\n      <td>4</td>\n      <td>129.0</td>\n      <td>Castle High</td>\n      <td>3104</td>\n      <td>Kaneohe</td>\n      <td>21.4228</td>\n      <td>-157.8115</td>\n    </tr>\n    <tr>\n      <th>6</th>\n      <td>96782</td>\n      <td>3</td>\n      <td>159.0</td>\n      <td>Pearl City High</td>\n      <td>4525</td>\n      <td>Pearl City</td>\n      <td>21.4084</td>\n      <td>-157.9652</td>\n    </tr>\n    <tr>\n      <th>7</th>\n      <td>96786</td>\n      <td>2</td>\n      <td>122.0</td>\n      <td>Leilehua High</td>\n      <td>2472</td>\n      <td>Wahiawa</td>\n      <td>21.5006</td>\n      <td>-158.0435</td>\n    </tr>\n    <tr>\n      <th>8</th>\n      <td>96789</td>\n      <td>2</td>\n      <td>175.0</td>\n      <td>Mililani High</td>\n      <td>2472</td>\n      <td>Mililani</td>\n      <td>21.4531</td>\n      <td>-158.0174</td>\n    </tr>\n    <tr>\n      <th>9</th>\n      <td>96791</td>\n      <td>2</td>\n      <td>123.0</td>\n      <td>Waialua H&amp;I</td>\n      <td>2472</td>\n      <td>Waialua</td>\n      <td>21.5766</td>\n      <td>-158.1267</td>\n    </tr>\n    <tr>\n      <th>10</th>\n      <td>96792</td>\n      <td>8</td>\n      <td>52.5</td>\n      <td>Nanakuli H&amp;I,Waianae High</td>\n      <td>4723</td>\n      <td>Waianae</td>\n      <td>21.4352</td>\n      <td>-158.1781</td>\n    </tr>\n    <tr>\n      <th>11</th>\n      <td>96797</td>\n      <td>3</td>\n      <td>133.0</td>\n      <td>Waipahu High</td>\n      <td>4525</td>\n      <td>Waipahu</td>\n      <td>21.3982</td>\n      <td>-158.0124</td>\n    </tr>\n    <tr>\n      <th>12</th>\n      <td>96814</td>\n      <td>1</td>\n      <td>129.0</td>\n      <td>McKinley High</td>\n      <td>6808</td>\n      <td>Honolulu</td>\n      <td>21.2998</td>\n      <td>-157.8439</td>\n    </tr>\n    <tr>\n      <th>13</th>\n      <td>96816</td>\n      <td>7</td>\n      <td>78.0</td>\n      <td>Kaimuki High</td>\n      <td>4120</td>\n      <td>Waialae / Kahala</td>\n      <td>21.2887</td>\n      <td>-157.8006</td>\n    </tr>\n    <tr>\n      <th>14</th>\n      <td>96817</td>\n      <td>5</td>\n      <td>102.0</td>\n      <td>Farrington High</td>\n      <td>4917</td>\n      <td>Kapalama</td>\n      <td>21.3295</td>\n      <td>-157.8615</td>\n    </tr>\n    <tr>\n      <th>15</th>\n      <td>96818</td>\n      <td>5</td>\n      <td>153.5</td>\n      <td>Moanalua High,Radford High</td>\n      <td>4917</td>\n      <td>Pearl Harbor</td>\n      <td>21.3532</td>\n      <td>-157.9269</td>\n    </tr>\n    <tr>\n      <th>16</th>\n      <td>96821</td>\n      <td>7</td>\n      <td>174.0</td>\n      <td>Kalani High</td>\n      <td>4120</td>\n      <td>Waialae / Kahala</td>\n      <td>21.2928</td>\n      <td>-157.7552</td>\n    </tr>\n    <tr>\n      <th>17</th>\n      <td>96822</td>\n      <td>1</td>\n      <td>161.0</td>\n      <td>Roosevelt High</td>\n      <td>6808</td>\n      <td>Makiki</td>\n      <td>21.3117</td>\n      <td>-157.8298</td>\n    </tr>\n    <tr>\n      <th>18</th>\n      <td>96825</td>\n      <td>7</td>\n      <td>170.0</td>\n      <td>Kaiser High</td>\n      <td>4120</td>\n      <td>Honolulu</td>\n      <td>21.2987</td>\n      <td>-157.6985</td>\n    </tr>\n  </tbody>\n</table>\n</div>",
                        "text/plain": "      Zip  District  Sum Proficiency                      School  \\\n0   96701         3            133.0                   Aiea High   \n1   96706         8            142.0               Campbell High   \n2   96707         8             95.0                Kapolei High   \n3   96731         4            114.0                  Kahuku H&I   \n4   96734         4            140.5    Kailua High,Kalaheo High   \n5   96744         4            129.0                 Castle High   \n6   96782         3            159.0             Pearl City High   \n7   96786         2            122.0               Leilehua High   \n8   96789         2            175.0               Mililani High   \n9   96791         2            123.0                 Waialua H&I   \n10  96792         8             52.5   Nanakuli H&I,Waianae High   \n11  96797         3            133.0                Waipahu High   \n12  96814         1            129.0               McKinley High   \n13  96816         7             78.0                Kaimuki High   \n14  96817         5            102.0             Farrington High   \n15  96818         5            153.5  Moanalua High,Radford High   \n16  96821         7            174.0                 Kalani High   \n17  96822         1            161.0              Roosevelt High   \n18  96825         7            170.0                 Kaiser High   \n\n    Total Crimes      Neighborhood  Latitude  Longitude  \n0           4525              Aiea   21.3908  -157.9332  \n1           4723         Ewa Beach   21.3274  -158.0103  \n2           4723           Kapolei   21.3453  -158.0870  \n3           3104            Kahuku   21.6750  -157.9725  \n4           3104            Kailua   21.4063  -157.7448  \n5           3104           Kaneohe   21.4228  -157.8115  \n6           4525        Pearl City   21.4084  -157.9652  \n7           2472           Wahiawa   21.5006  -158.0435  \n8           2472          Mililani   21.4531  -158.0174  \n9           2472           Waialua   21.5766  -158.1267  \n10          4723           Waianae   21.4352  -158.1781  \n11          4525           Waipahu   21.3982  -158.0124  \n12          6808          Honolulu   21.2998  -157.8439  \n13          4120  Waialae / Kahala   21.2887  -157.8006  \n14          4917          Kapalama   21.3295  -157.8615  \n15          4917      Pearl Harbor   21.3532  -157.9269  \n16          4120  Waialae / Kahala   21.2928  -157.7552  \n17          6808            Makiki   21.3117  -157.8298  \n18          4120          Honolulu   21.2987  -157.6985  "
                    },
                    "execution_count": 70,
                    "metadata": {},
                    "output_type": "execute_result"
                }
            ],
            "source": "#Average high school scores with the same zip code\ndf_schools2=df_schools.groupby(['Zip','District'])['Sum Proficiency'].mean().reset_index()#apply(lambda x: ','.join(x)).reset_index()\n#Add back on school names\ndf_schools3=df_schools.groupby(['Zip'])['School'].apply(lambda x: ','.join(x)).reset_index()\ndf_schools_combined=df_schools2.join(df_schools3.set_index('Zip'), on='Zip')\n#df_schools_combined\n#Add Total Crimes\ndf_schools_crime=df_schools_combined.join(df_crime.set_index('District'), on='District')\n#Add Latitude and Longitude\ndf_combined=df_schools_crime.join(df_latlon.set_index('Zip Code'),on='Zip')\ndf_combined"
        },
        {
            "cell_type": "code",
            "execution_count": null,
            "metadata": {},
            "outputs": [],
            "source": ""
        }
    ],
    "metadata": {
        "kernelspec": {
            "display_name": "Python 3.6",
            "language": "python",
            "name": "python3"
        },
        "language_info": {
            "codemirror_mode": {
                "name": "ipython",
                "version": 3
            },
            "file_extension": ".py",
            "mimetype": "text/x-python",
            "name": "python",
            "nbconvert_exporter": "python",
            "pygments_lexer": "ipython3",
            "version": "3.6.9"
        }
    },
    "nbformat": 4,
    "nbformat_minor": 1
}